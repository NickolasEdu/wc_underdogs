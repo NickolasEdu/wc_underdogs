{
 "cells": [
  {
   "cell_type": "markdown",
   "id": "fc0c40d6",
   "metadata": {},
   "source": [
    "No ano de 2022 a copa do mundo foi disputada no Qatar, entre os dias 21 de Novembro e 18 de Dezembro. O resultado final da competição foi o vice campeonato da França que defentia o título, sendo superados pelo time da Argentina, entretanto algo que também chamou a atenção foi a disputa do terceiro lugar entre Croácia e Marrocos. Feito que é considerado ainda mais espantoso pelo fato de que ambos os times não estavam no top 10 do ranking da Fifa antes da competição, sendo Croácia a 12° colocada e o Marrocos apenas na 22° posição.\n",
    "\n",
    "Deixando de lado a parte técnica individual de cada jogador, será que se observarmos apenas dados sobre os jogos nós podemos encontrar algum indicador semelhante entre a seleção croata e a marroquina que nos indique qual pode ter sido o efeito do sucesso para estes dois times?\n",
    "\n",
    "Para este estudo eu coletei os dados do site oficial da Fifa e comparei entre as seleções que chegaram até a fase de quartas de final, pelo fato de manter um equilibro na quantidade de jogos entre os times analisados e porque os quatro times eliminados, todos estavam no top 10 da Fifa antes de se iniciar a compeição. Eu também dividi entre Finalistas e Eliminados, sendo os Finalistas os times que jogaram 7 vezes na competição - visto que os semifinalistas disputam a final ou o terceiro lugar - e os Eliminados aqueles que jogaram menos partidas.\n",
    "\n",
    "Em relação aos dados, ao longo do estudo eu decidi dividir em duas categorias Ações Com a Bola e Ações Sem a Bola, o motivo dessa divisão foi pelo fato da falta de dados sobre a posse de bola, nesta edição da Copa do Mundo a Fifa introduziu novos indicadores de posse, antes a posse de bola era dividida entre os dois times, agora ela é categorizada entre Time A, Time B e entre os dois temos o parâmetro Em Disputa - quando a bola não está sob o domínio do jogador, antes a contagem era feita a partir do ultimo jogador que tocou nela, mesmo que fosse um chute do campo defensivo para o ataque e levasse algo como 4 segundos até outro jogador tocar nela, esses quatro segundos eram considerados posse, agora não mais - e um outro indicador chamado Tempo para Recuperação de Bola, ou seja, a partir do momento que a bola entra no estágio de Em Disputa, quantos segundos cada time leva para recuperar a posse total dela.\n",
    "\n",
    "Porém esses indicadores não estavam presentes no site oficial da copa, pela falta dos indicadores de posse eu decidi categorizar os dados em duas condições, para trazer um entendimento mais claro do estilo de jogo das equipes."
   ]
  },
  {
   "cell_type": "markdown",
   "id": "f52d5dc7",
   "metadata": {},
   "source": [
    "## Importação dos dados"
   ]
  },
  {
   "cell_type": "code",
   "execution_count": 29,
   "id": "8657df47",
   "metadata": {},
   "outputs": [
    {
     "name": "stdout",
     "output_type": "stream",
     "text": [
      "Requirement already satisfied: pandas in c:\\users\\nickolas\\anaconda3\\lib\\site-packages (1.4.2)\n",
      "Requirement already satisfied: python-dateutil>=2.8.1 in c:\\users\\nickolas\\anaconda3\\lib\\site-packages (from pandas) (2.8.2)\n",
      "Requirement already satisfied: pytz>=2020.1 in c:\\users\\nickolas\\anaconda3\\lib\\site-packages (from pandas) (2021.3)\n",
      "Requirement already satisfied: numpy>=1.18.5 in c:\\users\\nickolas\\anaconda3\\lib\\site-packages (from pandas) (1.21.5)\n",
      "Requirement already satisfied: six>=1.5 in c:\\users\\nickolas\\anaconda3\\lib\\site-packages (from python-dateutil>=2.8.1->pandas) (1.16.0)\n"
     ]
    }
   ],
   "source": [
    "!pip install pandas"
   ]
  },
  {
   "cell_type": "code",
   "execution_count": 30,
   "id": "e5370eed",
   "metadata": {},
   "outputs": [],
   "source": [
    "import pandas as pd"
   ]
  },
  {
   "cell_type": "code",
   "execution_count": 31,
   "id": "3699793c",
   "metadata": {},
   "outputs": [],
   "source": [
    "import matplotlib.pyplot as plt"
   ]
  },
  {
   "cell_type": "code",
   "execution_count": 32,
   "id": "f400b0d4",
   "metadata": {},
   "outputs": [],
   "source": [
    "df = pd.read_excel(\"Amostra_Alterada.xlsx\")"
   ]
  },
  {
   "cell_type": "code",
   "execution_count": 33,
   "id": "4bfe56fc",
   "metadata": {
    "scrolled": true
   },
   "outputs": [],
   "source": [
    "tabela_df = df.dropna()\n",
    "media_df = df.dropna(how='all', axis=0)"
   ]
  },
  {
   "cell_type": "markdown",
   "id": "40417b91",
   "metadata": {},
   "source": [
    "## Ações Com Bola\n",
    "\n",
    "Com base na falta de dados sobre posse de bola, a primeira ação com bola observada foram os passes certos seguido das quebras de linha. O racícionio foi quals foram os times com mais condição de criação de jogo, como aqueles que mais trocavam passes sem errar e entender a efetividade dessas ações, pela quantidade de linhas do time adversário quebradas."
   ]
  },
  {
   "cell_type": "markdown",
   "id": "5725bca6",
   "metadata": {},
   "source": [
    "### Passes Certos - %\n",
    "Brasil e Inglaterra foram os times com mais acertos de passe na nossa amostra, com quase 90% de efetividade, enquanto Marrocos obteve apenas 82% nos passes certos."
   ]
  },
  {
   "cell_type": "code",
   "execution_count": 34,
   "id": "91bf6219",
   "metadata": {},
   "outputs": [
    {
     "data": {
      "image/png": "[encoded data removed]",
      "text/plain": [
       "<Figure size 432x288 with 1 Axes>"
      ]
     },
     "metadata": {
      "needs_background": "light"
     },
     "output_type": "display_data"
    }
   ],
   "source": [
    "# plotar o histograma\n",
    "ax = tabela_df['Pa. Certos %'].plot.bar()\n",
    "\n",
    "# adicionar rótulo ao eixo y\n",
    "plt.ylabel('Efetividade %')\n",
    "ax.set_ylim(bottom=80, top=90)\n",
    "\n",
    "ax.set_xticklabels(tabela_df['Team'])\n",
    "\n",
    "# exibir o gráfico\n",
    "plt.show()"
   ]
  },
  {
   "cell_type": "markdown",
   "id": "2df459aa",
   "metadata": {},
   "source": [
    "### Quebras de Linha\n",
    "Para validar esse indicador podemos nos aprofundar em quebras de linhas, visto que a efetividade na quebra de linha se relaciona com margem de 1% com o indicador de acerto nos passes. Ou seja, a efetividade da quebra de linhas pouco influenciou na sequência dos times com maior efetividade no acerto dos passes.\n",
    "\n",
    "As medias gerais de efetividade na quebra de linha são 70.86 para os eliminados e 66.39 para os finalistas. Indicando uma ligeira supeioridade de acerto nas jogadas com a bola pelos times eliminados, sobre os times finalistas."
   ]
  },
  {
   "cell_type": "code",
   "execution_count": 35,
   "id": "a5010ef2",
   "metadata": {},
   "outputs": [
    {
     "data": {
      "image/png": "[encoded data removed]",
      "text/plain": [
       "<Figure size 432x288 with 1 Axes>"
      ]
     },
     "metadata": {
      "needs_background": "light"
     },
     "output_type": "display_data"
    }
   ],
   "source": [
    "# plotar o histograma\n",
    "ax = tabela_df['Efetividade'].plot.bar()\n",
    "\n",
    "# adicionar rótulo ao eixo y\n",
    "plt.ylabel('Efetividade %')\n",
    "ax.set_ylim(bottom= 55, top=75)\n",
    "\n",
    "ax.set_xticklabels(tabela_df['Team'])\n",
    "\n",
    "# exibir o gráfico\n",
    "plt.show()"
   ]
  },
  {
   "cell_type": "markdown",
   "id": "4f0aa941",
   "metadata": {},
   "source": [
    "## Considerações\n",
    "Podemos observar que Brasil e a Inglaterra foram os times com maior efetividade nas ações com bola, onde tiveram maior efetividade no acerto de passe e na quebra de linhas defensivas do adversário. Marrocos por outro lado foi o time com menor percentual e efetivide Ou seja, Marrocos foi o time com menor efetividade nas ações com bola.\n",
    "\n",
    "Existiria então algum indicador que aproxime o time de Marrocos das outra seleções finalistas, e que aja supeioridade as seleções eliminadas? Vejamos então as ações sem bola."
   ]
  },
  {
   "cell_type": "markdown",
   "id": "e7fae56f",
   "metadata": {},
   "source": [
    "## Ações Sem Bola\n",
    "\n",
    "Falado sobre a postura dos times com a bola nos pés, foi analisado também os indicadores de movimentação dos times sem a bola. Sendo o primeiro ponto levantado a Alternância de jogo, pois tem relação as fases defensivas-transição-ofensivas de jogo. Porém a Alternância em si não nos mostrou nenhuma relação com os outros indicadores coletados, a partir dai foi analisado a pressão aplicada as defesas adversárias, desde quantidade de aproximações, erros conquistados e a efetividade entre ação de pressão e conquista de erro.\n",
    "\n",
    "Se observarmos apenas a efetividade da relação entre pressão e erro conquistado, vemos que o o time com melhor percentual foi justamente a campeã Argentina, porém a segunda maior eficiência foi da Inglaterra um time na classe de Eliminados. Entretanto apesar de terem tido melhor porcentagem na conquista de erro adversário, foi o time que menos tentou o uso dessa tática, ou seja, a maioria das vezes que forçou uma pressão no adversário, eles conquistaram o erro, ao mesmo tempo em que foram o time com menos tentativas de pressão.\n",
    "\n",
    "A parttir disso decidi observar os valores de Pressão na defesa advsersária e de Erros Conquistados individualmente."
   ]
  },
  {
   "cell_type": "markdown",
   "id": "36e5174e",
   "metadata": {},
   "source": [
    "### Pressão Aplicada"
   ]
  },
  {
   "cell_type": "code",
   "execution_count": 36,
   "id": "b66e7e33",
   "metadata": {},
   "outputs": [
    {
     "data": {
      "image/png": "[encoded data removed]",
      "text/plain": [
       "<Figure size 432x288 with 1 Axes>"
      ]
     },
     "metadata": {
      "needs_background": "light"
     },
     "output_type": "display_data"
    }
   ],
   "source": [
    "# plotar o histograma\n",
    "ax = tabela_df['PessõesDefensivas'].plot.bar()\n",
    "\n",
    "# adicionar rótulo ao eixo y\n",
    "plt.ylabel('Efetividade %')\n",
    "ax.set_ylim(top=3000)\n",
    "\n",
    "ax.set_xticklabels(tabela_df['Team'])\n",
    "\n",
    "# exibir o gráfico\n",
    "plt.show()"
   ]
  },
  {
   "cell_type": "markdown",
   "id": "607e811b",
   "metadata": {},
   "source": [
    "### Erro Conquistado"
   ]
  },
  {
   "cell_type": "code",
   "execution_count": 37,
   "id": "2b5d031e",
   "metadata": {},
   "outputs": [
    {
     "data": {
      "image/png": "[encoded data removed]",
      "text/plain": [
       "<Figure size 432x288 with 1 Axes>"
      ]
     },
     "metadata": {
      "needs_background": "light"
     },
     "output_type": "display_data"
    }
   ],
   "source": [
    "# plotar o histograma\n",
    "ax = tabela_df['Erros Forçados'].plot.bar()\n",
    "\n",
    "# adicionar rótulo ao eixo y\n",
    "plt.ylabel('Efetividade %')\n",
    "ax.set_ylim(top=700)\n",
    "\n",
    "ax.set_xticklabels(tabela_df['Team'])\n",
    "\n",
    "# exibir o gráfico\n",
    "plt.show()"
   ]
  },
  {
   "cell_type": "markdown",
   "id": "b9824dde",
   "metadata": {},
   "source": [
    "### Conclusão\n",
    "\n",
    "Baseado nessas observações, vimos que os times com proposta de jogo sem a bola foram mais efetivos que aqueles com proposta de jogo com a bola. Desde Brasil e Inglaterra que tiveram ótimo desempenho nos passes e quebras de linha defensiva, ao mesmoo tempo que foram aqueles que menos aplicaram pressão quando estavam sem a bola, enquanto o time de Marrocos teve o pior desempenho com a bola nos pés, porém a conquista da 4° posição se deve muito pelo desempenho positivo no jogo sem a bola nos pés.\n",
    "\n",
    "Em relação a campeã Argentina, foi o time que teve mais consistência entre Ações Com ou Sem Bola. Em praticamente todos os indicadores o time argentino teve um desempenho acima da média, sendo o único parâmetro em que não alcaçaram a média foi nas pressões defensivas aplicadas, ficando pouco abaixo da média."
   ]
  },
  {
   "cell_type": "code",
   "execution_count": 38,
   "id": "7ec9fe18",
   "metadata": {},
   "outputs": [
    {
     "data": {
      "text/html": [
       "<div>\n",
       "<style scoped>\n",
       "    .dataframe tbody tr th:only-of-type {\n",
       "        vertical-align: middle;\n",
       "    }\n",
       "\n",
       "    .dataframe tbody tr th {\n",
       "        vertical-align: top;\n",
       "    }\n",
       "\n",
       "    .dataframe thead th {\n",
       "        text-align: right;\n",
       "    }\n",
       "</style>\n",
       "<table border=\"1\" class=\"dataframe\">\n",
       "  <thead>\n",
       "    <tr style=\"text-align: right;\">\n",
       "      <th></th>\n",
       "      <th>Team</th>\n",
       "      <th>Passes</th>\n",
       "      <th>Pa. Certos</th>\n",
       "      <th>Pa. Certos %</th>\n",
       "      <th>Cruzamentos</th>\n",
       "      <th>Cruza. Certos</th>\n",
       "      <th>Cruza. Certos %</th>\n",
       "      <th>Chutes</th>\n",
       "      <th>Chute Gol</th>\n",
       "      <th>Chute Gol %</th>\n",
       "      <th>ChuteDentroArea</th>\n",
       "      <th>ChuteForaArea</th>\n",
       "      <th>PessõesDefensivas</th>\n",
       "      <th>Erros Forçados</th>\n",
       "      <th>Efetividade Pressão</th>\n",
       "      <th>TentativaQuebrarLinha</th>\n",
       "      <th>Linhas Quebradas</th>\n",
       "      <th>Efetividade</th>\n",
       "    </tr>\n",
       "  </thead>\n",
       "  <tbody>\n",
       "    <tr>\n",
       "      <th>0</th>\n",
       "      <td>Marocco</td>\n",
       "      <td>2690.000</td>\n",
       "      <td>2219.0</td>\n",
       "      <td>82.49</td>\n",
       "      <td>86.000</td>\n",
       "      <td>19.0</td>\n",
       "      <td>22.09</td>\n",
       "      <td>61.000</td>\n",
       "      <td>17.000</td>\n",
       "      <td>27.86</td>\n",
       "      <td>34.000</td>\n",
       "      <td>27.0</td>\n",
       "      <td>2516.0</td>\n",
       "      <td>544.00</td>\n",
       "      <td>21.62</td>\n",
       "      <td>997.0</td>\n",
       "      <td>596.000</td>\n",
       "      <td>59.77</td>\n",
       "    </tr>\n",
       "    <tr>\n",
       "      <th>1</th>\n",
       "      <td>Netherlands</td>\n",
       "      <td>2804.000</td>\n",
       "      <td>2442.0</td>\n",
       "      <td>87.08</td>\n",
       "      <td>79.000</td>\n",
       "      <td>17.0</td>\n",
       "      <td>21.51</td>\n",
       "      <td>40.000</td>\n",
       "      <td>16.000</td>\n",
       "      <td>40.00</td>\n",
       "      <td>25.000</td>\n",
       "      <td>15.0</td>\n",
       "      <td>1550.0</td>\n",
       "      <td>412.00</td>\n",
       "      <td>26.58</td>\n",
       "      <td>870.0</td>\n",
       "      <td>601.000</td>\n",
       "      <td>69.08</td>\n",
       "    </tr>\n",
       "    <tr>\n",
       "      <th>2</th>\n",
       "      <td>Portugal</td>\n",
       "      <td>2977.000</td>\n",
       "      <td>2615.0</td>\n",
       "      <td>87.84</td>\n",
       "      <td>102.000</td>\n",
       "      <td>27.0</td>\n",
       "      <td>26.47</td>\n",
       "      <td>62.000</td>\n",
       "      <td>25.000</td>\n",
       "      <td>40.30</td>\n",
       "      <td>32.000</td>\n",
       "      <td>30.0</td>\n",
       "      <td>1267.0</td>\n",
       "      <td>303.00</td>\n",
       "      <td>23.91</td>\n",
       "      <td>878.0</td>\n",
       "      <td>600.000</td>\n",
       "      <td>68.33</td>\n",
       "    </tr>\n",
       "    <tr>\n",
       "      <th>3</th>\n",
       "      <td>Brazil</td>\n",
       "      <td>3009.000</td>\n",
       "      <td>2696.0</td>\n",
       "      <td>89.59</td>\n",
       "      <td>116.000</td>\n",
       "      <td>24.0</td>\n",
       "      <td>20.68</td>\n",
       "      <td>90.000</td>\n",
       "      <td>41.000</td>\n",
       "      <td>45.55</td>\n",
       "      <td>57.000</td>\n",
       "      <td>33.0</td>\n",
       "      <td>1477.0</td>\n",
       "      <td>361.00</td>\n",
       "      <td>24.44</td>\n",
       "      <td>907.0</td>\n",
       "      <td>659.000</td>\n",
       "      <td>72.65</td>\n",
       "    </tr>\n",
       "    <tr>\n",
       "      <th>4</th>\n",
       "      <td>England</td>\n",
       "      <td>3054.000</td>\n",
       "      <td>2723.0</td>\n",
       "      <td>89.16</td>\n",
       "      <td>94.000</td>\n",
       "      <td>30.0</td>\n",
       "      <td>31.91</td>\n",
       "      <td>60.000</td>\n",
       "      <td>27.000</td>\n",
       "      <td>45.00</td>\n",
       "      <td>42.000</td>\n",
       "      <td>18.0</td>\n",
       "      <td>995.0</td>\n",
       "      <td>280.00</td>\n",
       "      <td>28.14</td>\n",
       "      <td>944.0</td>\n",
       "      <td>693.000</td>\n",
       "      <td>73.41</td>\n",
       "    </tr>\n",
       "    <tr>\n",
       "      <th>5</th>\n",
       "      <td>France</td>\n",
       "      <td>3656.000</td>\n",
       "      <td>3192.0</td>\n",
       "      <td>87.30</td>\n",
       "      <td>146.000</td>\n",
       "      <td>49.0</td>\n",
       "      <td>33.56</td>\n",
       "      <td>101.000</td>\n",
       "      <td>35.000</td>\n",
       "      <td>34.65</td>\n",
       "      <td>73.000</td>\n",
       "      <td>28.0</td>\n",
       "      <td>1986.0</td>\n",
       "      <td>524.00</td>\n",
       "      <td>26.38</td>\n",
       "      <td>1081.0</td>\n",
       "      <td>729.000</td>\n",
       "      <td>67.43</td>\n",
       "    </tr>\n",
       "    <tr>\n",
       "      <th>6</th>\n",
       "      <td>Croatia</td>\n",
       "      <td>4272.000</td>\n",
       "      <td>3724.0</td>\n",
       "      <td>87.17</td>\n",
       "      <td>163.000</td>\n",
       "      <td>36.0</td>\n",
       "      <td>22.08</td>\n",
       "      <td>81.000</td>\n",
       "      <td>28.000</td>\n",
       "      <td>34.56</td>\n",
       "      <td>47.000</td>\n",
       "      <td>34.0</td>\n",
       "      <td>2113.0</td>\n",
       "      <td>548.00</td>\n",
       "      <td>25.93</td>\n",
       "      <td>1384.0</td>\n",
       "      <td>954.000</td>\n",
       "      <td>68.93</td>\n",
       "    </tr>\n",
       "    <tr>\n",
       "      <th>7</th>\n",
       "      <td>Argentina</td>\n",
       "      <td>4375.000</td>\n",
       "      <td>3841.0</td>\n",
       "      <td>87.79</td>\n",
       "      <td>115.000</td>\n",
       "      <td>30.0</td>\n",
       "      <td>26.08</td>\n",
       "      <td>104.000</td>\n",
       "      <td>48.000</td>\n",
       "      <td>46.15</td>\n",
       "      <td>69.000</td>\n",
       "      <td>35.0</td>\n",
       "      <td>1688.0</td>\n",
       "      <td>494.00</td>\n",
       "      <td>29.26</td>\n",
       "      <td>1335.0</td>\n",
       "      <td>935.000</td>\n",
       "      <td>70.03</td>\n",
       "    </tr>\n",
       "    <tr>\n",
       "      <th>9</th>\n",
       "      <td>Media</td>\n",
       "      <td>3354.625</td>\n",
       "      <td>2931.5</td>\n",
       "      <td>NaN</td>\n",
       "      <td>112.625</td>\n",
       "      <td>29.0</td>\n",
       "      <td>NaN</td>\n",
       "      <td>74.875</td>\n",
       "      <td>29.625</td>\n",
       "      <td>NaN</td>\n",
       "      <td>47.375</td>\n",
       "      <td>27.5</td>\n",
       "      <td>1699.0</td>\n",
       "      <td>433.25</td>\n",
       "      <td>NaN</td>\n",
       "      <td>1049.5</td>\n",
       "      <td>720.875</td>\n",
       "      <td>NaN</td>\n",
       "    </tr>\n",
       "  </tbody>\n",
       "</table>\n",
       "</div>"
      ],
      "text/plain": [
       "          Team    Passes  Pa. Certos  Pa. Certos %  Cruzamentos  \\\n",
       "0      Marocco  2690.000      2219.0         82.49       86.000   \n",
       "1  Netherlands  2804.000      2442.0         87.08       79.000   \n",
       "2     Portugal  2977.000      2615.0         87.84      102.000   \n",
       "3       Brazil  3009.000      2696.0         89.59      116.000   \n",
       "4      England  3054.000      2723.0         89.16       94.000   \n",
       "5       France  3656.000      3192.0         87.30      146.000   \n",
       "6      Croatia  4272.000      3724.0         87.17      163.000   \n",
       "7    Argentina  4375.000      3841.0         87.79      115.000   \n",
       "9        Media  3354.625      2931.5           NaN      112.625   \n",
       "\n",
       "   Cruza. Certos  Cruza. Certos %   Chutes  Chute Gol  Chute Gol %  \\\n",
       "0           19.0            22.09   61.000     17.000        27.86   \n",
       "1           17.0            21.51   40.000     16.000        40.00   \n",
       "2           27.0            26.47   62.000     25.000        40.30   \n",
       "3           24.0            20.68   90.000     41.000        45.55   \n",
       "4           30.0            31.91   60.000     27.000        45.00   \n",
       "5           49.0            33.56  101.000     35.000        34.65   \n",
       "6           36.0            22.08   81.000     28.000        34.56   \n",
       "7           30.0            26.08  104.000     48.000        46.15   \n",
       "9           29.0              NaN   74.875     29.625          NaN   \n",
       "\n",
       "   ChuteDentroArea  ChuteForaArea  PessõesDefensivas  Erros Forçados  \\\n",
       "0           34.000           27.0             2516.0          544.00   \n",
       "1           25.000           15.0             1550.0          412.00   \n",
       "2           32.000           30.0             1267.0          303.00   \n",
       "3           57.000           33.0             1477.0          361.00   \n",
       "4           42.000           18.0              995.0          280.00   \n",
       "5           73.000           28.0             1986.0          524.00   \n",
       "6           47.000           34.0             2113.0          548.00   \n",
       "7           69.000           35.0             1688.0          494.00   \n",
       "9           47.375           27.5             1699.0          433.25   \n",
       "\n",
       "   Efetividade Pressão  TentativaQuebrarLinha  Linhas Quebradas  Efetividade  \n",
       "0                21.62                  997.0           596.000        59.77  \n",
       "1                26.58                  870.0           601.000        69.08  \n",
       "2                23.91                  878.0           600.000        68.33  \n",
       "3                24.44                  907.0           659.000        72.65  \n",
       "4                28.14                  944.0           693.000        73.41  \n",
       "5                26.38                 1081.0           729.000        67.43  \n",
       "6                25.93                 1384.0           954.000        68.93  \n",
       "7                29.26                 1335.0           935.000        70.03  \n",
       "9                  NaN                 1049.5           720.875          NaN  "
      ]
     },
     "metadata": {},
     "output_type": "display_data"
    }
   ],
   "source": [
    "display(media_df)"
   ]
  },
  {
   "cell_type": "code",
   "execution_count": 41,
   "id": "c6b4e955",
   "metadata": {
    "scrolled": true
   },
   "outputs": [
    {
     "data": {
      "image/png": "[encoded data removed]",
      "text/plain": [
       "<Figure size 432x288 with 1 Axes>"
      ]
     },
     "metadata": {
      "needs_background": "light"
     },
     "output_type": "display_data"
    }
   ],
   "source": [
    "\n",
    "# Valores axis x e y\n",
    "items = ['Argentina', 'Media Amostral']\n",
    "quantidade = [1688, 1699]\n",
    "\n",
    "# Declaração de gráfico e labels\n",
    "plt.bar(range(len(items)), quantidade)\n",
    "plt.title('Pressões Defensivas Aplicadas')\n",
    "plt.xticks(range(len(items)), items)\n",
    "\n",
    "# linhas horizontais\n",
    "ax = plt.gca()\n",
    "ax.yaxis.grid()"
   ]
  },
  {
   "cell_type": "code",
   "execution_count": null,
   "id": "bbfd8b03",
   "metadata": {},
   "outputs": [],
   "source": []
  }
 ],
 "metadata": {
  "kernelspec": {
   "display_name": "Python 3 (ipykernel)",
   "language": "python",
   "name": "python3"
  },
  "language_info": {
   "codemirror_mode": {
    "name": "ipython",
    "version": 3
   },
   "file_extension": ".py",
   "mimetype": "text/x-python",
   "name": "python",
   "nbconvert_exporter": "python",
   "pygments_lexer": "ipython3",
   "version": "3.9.12"
  }
 },
 "nbformat": 4,
 "nbformat_minor": 5
}
